{
 "cells": [
  {
   "cell_type": "code",
   "execution_count": 1,
   "metadata": {},
   "outputs": [
    {
     "name": "stderr",
     "output_type": "stream",
     "text": [
      "C:\\Users\\skymont\\Anaconda3\\lib\\site-packages\\h5py\\__init__.py:36: FutureWarning: Conversion of the second argument of issubdtype from `float` to `np.floating` is deprecated. In future, it will be treated as `np.float64 == np.dtype(float).type`.\n",
      "  from ._conv import register_converters as _register_converters\n",
      "Using TensorFlow backend.\n",
      "C:\\Users\\skymont\\Anaconda3\\lib\\site-packages\\gensim\\utils.py:1209: UserWarning: detected Windows; aliasing chunkize to chunkize_serial\n",
      "  warnings.warn(\"detected Windows; aliasing chunkize to chunkize_serial\")\n"
     ]
    }
   ],
   "source": [
    "import keras\n",
    "import csv\n",
    "import scipy\n",
    "import numpy as np\n",
    "import nltk #from nltk.tokenize import punkt #.tokenize.moses import MosesTokenizer\n",
    "from gensim.models import KeyedVectors\n",
    "from itertools import islice\n",
    "import pickle\n",
    "import pandas as pd\n",
    "import re\n",
    "from nltk.corpus import stopwords\n",
    "import json\n",
    "import pickle\n",
    "from cyordereddict import OrderedDict\n",
    "from joblib import Parallel, delayed\n",
    "\n",
    "DATASET_FILE_PATH = \"./DataSet/yelp.csv/yelp.csv\"\n",
    "WORD2VEC_FILE_PATH = \"./DataSet/FBword2vec/wiki.en.vec\"\n",
    "TRAINING_DATA_PATH = \"./DataSet/trainingData\"\n",
    "EXTENDED_DATASET_PATH = \"./DataSet/review.json\"\n",
    "\n",
    "###File Names\n",
    "TEST_NAME = \"standard_tokenizer_No_Stopwords_noPunctuation_FB_vectors_100percentDataset\"\n",
    "\n",
    "EMBEDDED_MATRIX_NAME = TEST_NAME+'_embedded_matrix.pkl'\n",
    "TOKENIZED_SENTENCES_NAME = TEST_NAME+ \"_tokenized_sentences.pkl\"\n",
    "WORD_INDEX_NAME = TEST_NAME+ \"_word_index.pkl\"\n",
    "INDEXED_TOKENIZED_SENTENCES_NAME = TEST_NAME + \"_indexed_tokenized_sentences.pkl\"\n",
    "\n",
    "LABELS_NAME = 'labels.pkl'\n",
    "\n",
    "\n",
    "AMOUNT_OF_WORDS = 70\n",
    "FACEBOOK_EMBEDDING_SIZE = 300"
   ]
  },
  {
   "cell_type": "code",
   "execution_count": 2,
   "metadata": {},
   "outputs": [],
   "source": [
    "word_index = pickle.load(open(WORD_INDEX_NAME,'rb'))"
   ]
  },
  {
   "cell_type": "code",
   "execution_count": 3,
   "metadata": {},
   "outputs": [
    {
     "name": "stdout",
     "output_type": "stream",
     "text": [
      "embedded matrix loaded\n"
     ]
    }
   ],
   "source": [
    "embedded_matrix =  np.load(EMBEDDED_MATRIX_NAME+'.npy')\n",
    "print('embedded matrix loaded')"
   ]
  },
  {
   "cell_type": "code",
   "execution_count": 4,
   "metadata": {},
   "outputs": [],
   "source": [
    "indexed_tokenized_sentences = pickle.load(open(INDEXED_TOKENIZED_SENTENCES_NAME,'rb'))"
   ]
  },
  {
   "cell_type": "code",
   "execution_count": 5,
   "metadata": {},
   "outputs": [],
   "source": [
    "def reshapeSentences(indexed_tokenized_sentences,sentence_length):\n",
    "    for i in range(len(indexed_tokenized_sentences)):\n",
    "        padding = sentence_length - len(indexed_tokenized_sentences[i])\n",
    "        indexed_tokenized_sentences[i] = indexed_tokenized_sentences[i][:sentence_length] + [-1]*padding\n",
    "    return indexed_tokenized_sentences"
   ]
  },
  {
   "cell_type": "code",
   "execution_count": 6,
   "metadata": {},
   "outputs": [],
   "source": [
    "### BUILDING MODEL"
   ]
  },
  {
   "cell_type": "code",
   "execution_count": 7,
   "metadata": {},
   "outputs": [],
   "source": [
    "reshaped_Sentences = reshapeSentences(indexed_tokenized_sentences, AMOUNT_OF_WORDS)"
   ]
  },
  {
   "cell_type": "code",
   "execution_count": 8,
   "metadata": {},
   "outputs": [
    {
     "data": {
      "text/html": [
       "<div>\n",
       "<style scoped>\n",
       "    .dataframe tbody tr th:only-of-type {\n",
       "        vertical-align: middle;\n",
       "    }\n",
       "\n",
       "    .dataframe tbody tr th {\n",
       "        vertical-align: top;\n",
       "    }\n",
       "\n",
       "    .dataframe thead th {\n",
       "        text-align: right;\n",
       "    }\n",
       "</style>\n",
       "<table border=\"1\" class=\"dataframe\">\n",
       "  <thead>\n",
       "    <tr style=\"text-align: right;\">\n",
       "      <th></th>\n",
       "      <th>1</th>\n",
       "      <th>2</th>\n",
       "      <th>3</th>\n",
       "      <th>4</th>\n",
       "      <th>5</th>\n",
       "    </tr>\n",
       "  </thead>\n",
       "  <tbody>\n",
       "    <tr>\n",
       "      <th>0</th>\n",
       "      <td>0</td>\n",
       "      <td>0</td>\n",
       "      <td>0</td>\n",
       "      <td>0</td>\n",
       "      <td>1</td>\n",
       "    </tr>\n",
       "    <tr>\n",
       "      <th>1</th>\n",
       "      <td>0</td>\n",
       "      <td>0</td>\n",
       "      <td>0</td>\n",
       "      <td>0</td>\n",
       "      <td>1</td>\n",
       "    </tr>\n",
       "    <tr>\n",
       "      <th>2</th>\n",
       "      <td>0</td>\n",
       "      <td>0</td>\n",
       "      <td>0</td>\n",
       "      <td>0</td>\n",
       "      <td>1</td>\n",
       "    </tr>\n",
       "    <tr>\n",
       "      <th>3</th>\n",
       "      <td>0</td>\n",
       "      <td>0</td>\n",
       "      <td>0</td>\n",
       "      <td>0</td>\n",
       "      <td>1</td>\n",
       "    </tr>\n",
       "    <tr>\n",
       "      <th>4</th>\n",
       "      <td>0</td>\n",
       "      <td>0</td>\n",
       "      <td>0</td>\n",
       "      <td>1</td>\n",
       "      <td>0</td>\n",
       "    </tr>\n",
       "  </tbody>\n",
       "</table>\n",
       "</div>"
      ],
      "text/plain": [
       "   1  2  3  4  5\n",
       "0  0  0  0  0  1\n",
       "1  0  0  0  0  1\n",
       "2  0  0  0  0  1\n",
       "3  0  0  0  0  1\n",
       "4  0  0  0  1  0"
      ]
     },
     "execution_count": 8,
     "metadata": {},
     "output_type": "execute_result"
    }
   ],
   "source": [
    "labels = pd.read_pickle(LABELS_NAME)\n",
    "labels.head()\n",
    "labels.pop('cool')\n",
    "labels.pop('funny')\n",
    "labels.pop('useful')\n",
    "labels.head()\n",
    "labels = pd.get_dummies(labels['stars'])\n",
    "labels.head()"
   ]
  },
  {
   "cell_type": "code",
   "execution_count": 9,
   "metadata": {},
   "outputs": [],
   "source": [
    "from keras.layers import Embedding\n",
    "from keras.models import Sequential\n",
    "from keras.layers import Dense\n",
    "from keras.layers import Flatten\n",
    "from keras.layers.convolutional import Conv1D\n",
    "from keras.layers.convolutional import MaxPooling1D\n",
    "from keras.layers.embeddings import Embedding\n",
    "from keras.preprocessing import sequence\n",
    "from keras.layers import LSTM\n",
    "from keras.layers import SpatialDropout1D\n",
    "from keras.layers import Dropout\n",
    "from sklearn.model_selection import train_test_split\n",
    "import numpy as np\n",
    "from keras import backend\n",
    "# fix random seed for reproducibility\n",
    "seed = 42\n",
    "np.random.seed(seed)"
   ]
  },
  {
   "cell_type": "code",
   "execution_count": 10,
   "metadata": {},
   "outputs": [],
   "source": [
    "embedding_layer = Embedding(\n",
    "    len(word_index),\n",
    "    FACEBOOK_EMBEDDING_SIZE,\n",
    "    weights=[embedded_matrix],\n",
    "    input_length=AMOUNT_OF_WORDS,\n",
    "    trainable=True\n",
    ")"
   ]
  },
  {
   "cell_type": "code",
   "execution_count": 11,
   "metadata": {},
   "outputs": [],
   "source": [
    "reshaped_Sentences = np.stack(reshaped_Sentences,axis=0)"
   ]
  },
  {
   "cell_type": "code",
   "execution_count": 12,
   "metadata": {},
   "outputs": [],
   "source": [
    "\n",
    "X_train, X_test, y_train, y_test = train_test_split(reshaped_Sentences, labels.values, test_size=0.2, random_state=42)"
   ]
  },
  {
   "cell_type": "code",
   "execution_count": 13,
   "metadata": {},
   "outputs": [],
   "source": [
    "def generator(features, labels, batch_size, replace=True):\n",
    "    \n",
    "    batch_features = np.zeros((batch_size,AMOUNT_OF_WORDS))\n",
    "    batch_labels = np.zeros((batch_size,5))\n",
    "    while True:\n",
    "        index = np.random.choice(features.shape[0], batch_size, replace=replace)\n",
    "        batch_features[:] = features[index]\n",
    "        batch_labels[:] = labels[index]\n",
    "        yield batch_features, batch_labels\n",
    "        "
   ]
  },
  {
   "cell_type": "code",
   "execution_count": 14,
   "metadata": {},
   "outputs": [],
   "source": [
    "def percentageCorrect(y_true, y_pred):\n",
    "    return backend.mean(backend.equal(y_true, backend.round(y_pred)))*100"
   ]
  },
  {
   "cell_type": "code",
   "execution_count": 22,
   "metadata": {},
   "outputs": [
    {
     "name": "stdout",
     "output_type": "stream",
     "text": [
      "_________________________________________________________________\n",
      "Layer (type)                 Output Shape              Param #   \n",
      "=================================================================\n",
      "embedding_1 (Embedding)      (None, 70, 300)           57183900  \n",
      "_________________________________________________________________\n",
      "dropout_4 (Dropout)          (None, 70, 300)           0         \n",
      "_________________________________________________________________\n",
      "conv1d_5 (Conv1D)            (None, 70, 32)            96032     \n",
      "_________________________________________________________________\n",
      "max_pooling1d_5 (MaxPooling1 (None, 35, 32)            0         \n",
      "_________________________________________________________________\n",
      "conv1d_6 (Conv1D)            (None, 35, 16)            5136      \n",
      "_________________________________________________________________\n",
      "max_pooling1d_6 (MaxPooling1 (None, 17, 16)            0         \n",
      "_________________________________________________________________\n",
      "conv1d_7 (Conv1D)            (None, 17, 8)             1288      \n",
      "_________________________________________________________________\n",
      "max_pooling1d_7 (MaxPooling1 (None, 8, 8)              0         \n",
      "_________________________________________________________________\n",
      "conv1d_8 (Conv1D)            (None, 8, 8)              648       \n",
      "_________________________________________________________________\n",
      "max_pooling1d_8 (MaxPooling1 (None, 4, 8)              0         \n",
      "_________________________________________________________________\n",
      "flatten_2 (Flatten)          (None, 32)                0         \n",
      "_________________________________________________________________\n",
      "dense_6 (Dense)              (None, 512)               16896     \n",
      "_________________________________________________________________\n",
      "dropout_5 (Dropout)          (None, 512)               0         \n",
      "_________________________________________________________________\n",
      "dense_7 (Dense)              (None, 512)               262656    \n",
      "_________________________________________________________________\n",
      "dropout_6 (Dropout)          (None, 512)               0         \n",
      "_________________________________________________________________\n",
      "dense_8 (Dense)              (None, 256)               131328    \n",
      "_________________________________________________________________\n",
      "dropout_7 (Dropout)          (None, 256)               0         \n",
      "_________________________________________________________________\n",
      "dense_9 (Dense)              (None, 128)               32896     \n",
      "_________________________________________________________________\n",
      "dense_10 (Dense)             (None, 5)                 645       \n",
      "=================================================================\n",
      "Total params: 57,731,425\n",
      "Trainable params: 57,731,425\n",
      "Non-trainable params: 0\n",
      "_________________________________________________________________\n"
     ]
    }
   ],
   "source": [
    "model = Sequential()\n",
    "model.add(embedding_layer)\n",
    "model.add(Dropout(0.5))\n",
    "model.add(Conv1D(filters=32, kernel_size=10, padding='same', activation='relu'))\n",
    "model.add(MaxPooling1D(pool_size=2))\n",
    "SpatialDropout1D(0.5)\n",
    "model.add(Conv1D(filters=16, kernel_size=10, padding='same', activation='relu'))\n",
    "model.add(MaxPooling1D(pool_size=2))\n",
    "model.add(Conv1D(filters=8, kernel_size=10, padding='same', activation='relu'))\n",
    "model.add(MaxPooling1D(pool_size=2))\n",
    "SpatialDropout1D(0.5)\n",
    "model.add(Conv1D(filters=8, kernel_size=10, padding='same', activation='relu'))\n",
    "model.add(MaxPooling1D(pool_size=2))\n",
    "SpatialDropout1D(0.5)\n",
    "model.add(Flatten())\n",
    "model.add(Dense(512, activation='relu'))\n",
    "model.add(Dropout(0.8))\n",
    "model.add(Dense(512, activation='relu'))\n",
    "model.add(Dropout(0.8))\n",
    "model.add(Dense(256, activation='relu'))\n",
    "model.add(Dropout(0.8))\n",
    "model.add(Dense(128, activation='relu'))\n",
    "model.add(Dense(5, activation='softmax'))\n",
    "model.compile(loss='categorical_crossentropy', optimizer='adam', metrics=['categorical_accuracy'])\n",
    "model.summary()"
   ]
  },
  {
   "cell_type": "code",
   "execution_count": 28,
   "metadata": {},
   "outputs": [
    {
     "name": "stdout",
     "output_type": "stream",
     "text": [
      "Epoch 1/30\n",
      " - 7s - loss: 0.8460 - categorical_accuracy: 0.6450 - val_loss: 0.9251 - val_categorical_accuracy: 0.6317\n",
      "Epoch 2/30\n",
      " - 6s - loss: 0.8414 - categorical_accuracy: 0.6496 - val_loss: 0.9741 - val_categorical_accuracy: 0.6134\n",
      "Epoch 3/30\n",
      " - 6s - loss: 0.8383 - categorical_accuracy: 0.6482 - val_loss: 0.9694 - val_categorical_accuracy: 0.6132\n",
      "Epoch 4/30\n",
      " - 6s - loss: 0.8375 - categorical_accuracy: 0.6474 - val_loss: 0.9695 - val_categorical_accuracy: 0.6089\n",
      "Epoch 5/30\n",
      " - 6s - loss: 0.8366 - categorical_accuracy: 0.6499 - val_loss: 0.9515 - val_categorical_accuracy: 0.6202\n",
      "Epoch 6/30\n",
      " - 6s - loss: 0.8376 - categorical_accuracy: 0.6486 - val_loss: 0.9528 - val_categorical_accuracy: 0.6263\n",
      "Epoch 7/30\n",
      " - 6s - loss: 0.8365 - categorical_accuracy: 0.6491 - val_loss: 0.9351 - val_categorical_accuracy: 0.6337\n",
      "Epoch 8/30\n",
      " - 6s - loss: 0.8334 - categorical_accuracy: 0.6503 - val_loss: 0.9419 - val_categorical_accuracy: 0.6303\n",
      "Epoch 9/30\n",
      " - 6s - loss: 0.8373 - categorical_accuracy: 0.6487 - val_loss: 0.9528 - val_categorical_accuracy: 0.6105\n",
      "Epoch 10/30\n",
      " - 6s - loss: 0.8307 - categorical_accuracy: 0.6513 - val_loss: 0.9703 - val_categorical_accuracy: 0.6119\n",
      "Epoch 11/30\n",
      " - 6s - loss: 0.8263 - categorical_accuracy: 0.6526 - val_loss: 0.9552 - val_categorical_accuracy: 0.6305\n",
      "Epoch 12/30\n",
      " - 6s - loss: 0.8294 - categorical_accuracy: 0.6524 - val_loss: 0.9505 - val_categorical_accuracy: 0.6264\n",
      "Epoch 13/30\n",
      " - 6s - loss: 0.8243 - categorical_accuracy: 0.6544 - val_loss: 0.9619 - val_categorical_accuracy: 0.6225\n",
      "Epoch 14/30\n",
      " - 6s - loss: 0.8327 - categorical_accuracy: 0.6499 - val_loss: 0.9456 - val_categorical_accuracy: 0.6294\n",
      "Epoch 15/30\n",
      " - 6s - loss: 0.8311 - categorical_accuracy: 0.6513 - val_loss: 0.9285 - val_categorical_accuracy: 0.6384\n",
      "Epoch 16/30\n",
      " - 6s - loss: 0.8284 - categorical_accuracy: 0.6520 - val_loss: 0.9335 - val_categorical_accuracy: 0.6292\n",
      "Epoch 17/30\n",
      " - 6s - loss: 0.8267 - categorical_accuracy: 0.6520 - val_loss: 0.9618 - val_categorical_accuracy: 0.6234\n",
      "Epoch 18/30\n",
      " - 6s - loss: 0.8245 - categorical_accuracy: 0.6536 - val_loss: 0.9202 - val_categorical_accuracy: 0.6339\n",
      "Epoch 19/30\n",
      " - 6s - loss: 0.8228 - categorical_accuracy: 0.6539 - val_loss: 0.9295 - val_categorical_accuracy: 0.6336\n",
      "Epoch 20/30\n",
      " - 6s - loss: 0.8229 - categorical_accuracy: 0.6539 - val_loss: 0.9273 - val_categorical_accuracy: 0.6351\n",
      "Epoch 21/30\n",
      " - 6s - loss: 0.8242 - categorical_accuracy: 0.6546 - val_loss: 0.9320 - val_categorical_accuracy: 0.6346\n",
      "Epoch 22/30\n",
      " - 6s - loss: 0.8222 - categorical_accuracy: 0.6569 - val_loss: 0.9371 - val_categorical_accuracy: 0.6245\n",
      "Epoch 23/30\n",
      " - 6s - loss: 0.8145 - categorical_accuracy: 0.6576 - val_loss: 0.9182 - val_categorical_accuracy: 0.6362\n",
      "Epoch 24/30\n",
      " - 6s - loss: 0.8206 - categorical_accuracy: 0.6552 - val_loss: 0.9410 - val_categorical_accuracy: 0.6319\n",
      "Epoch 25/30\n",
      " - 6s - loss: 0.8201 - categorical_accuracy: 0.6544 - val_loss: 0.9532 - val_categorical_accuracy: 0.6204\n",
      "Epoch 26/30\n",
      " - 6s - loss: 0.8147 - categorical_accuracy: 0.6575 - val_loss: 0.9351 - val_categorical_accuracy: 0.6275\n",
      "Epoch 27/30\n",
      " - 6s - loss: 0.8188 - categorical_accuracy: 0.6553 - val_loss: 0.9079 - val_categorical_accuracy: 0.6433\n",
      "Epoch 28/30\n",
      " - 6s - loss: 0.8119 - categorical_accuracy: 0.6586 - val_loss: 0.9350 - val_categorical_accuracy: 0.6313\n",
      "Epoch 29/30\n",
      " - 6s - loss: 0.8119 - categorical_accuracy: 0.6585 - val_loss: 0.9238 - val_categorical_accuracy: 0.6330\n",
      "Epoch 30/30\n",
      " - 6s - loss: 0.8195 - categorical_accuracy: 0.6547 - val_loss: 0.9151 - val_categorical_accuracy: 0.6436\n"
     ]
    },
    {
     "data": {
      "text/plain": [
       "<keras.callbacks.History at 0x1cd240c59e8>"
      ]
     },
     "execution_count": 28,
     "metadata": {},
     "output_type": "execute_result"
    }
   ],
   "source": [
    "#model.fit(X_train,y_train,validation_data=(X_test, y_test), epochs=40, batch_size=10, verbose=2)\n",
    "model.fit_generator(generator(X_train,y_train,7000,False),steps_per_epoch=20, epochs=30, verbose=2, validation_data=generator(X_test, y_test, 15000, False), validation_steps=5)"
   ]
  },
  {
   "cell_type": "code",
   "execution_count": null,
   "metadata": {},
   "outputs": [],
   "source": []
  }
 ],
 "metadata": {
  "kernelspec": {
   "display_name": "Python 3",
   "language": "python",
   "name": "python3"
  },
  "language_info": {
   "codemirror_mode": {
    "name": "ipython",
    "version": 3
   },
   "file_extension": ".py",
   "mimetype": "text/x-python",
   "name": "python",
   "nbconvert_exporter": "python",
   "pygments_lexer": "ipython3",
   "version": "3.6.5"
  }
 },
 "nbformat": 4,
 "nbformat_minor": 2
}
