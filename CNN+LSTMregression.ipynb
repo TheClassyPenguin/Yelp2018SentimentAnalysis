{
 "cells": [
  {
   "cell_type": "code",
   "execution_count": 1,
   "metadata": {},
   "outputs": [
    {
     "name": "stderr",
     "output_type": "stream",
     "text": [
      "C:\\Users\\skymont\\Anaconda3\\lib\\site-packages\\h5py\\__init__.py:36: FutureWarning: Conversion of the second argument of issubdtype from `float` to `np.floating` is deprecated. In future, it will be treated as `np.float64 == np.dtype(float).type`.\n",
      "  from ._conv import register_converters as _register_converters\n",
      "Using TensorFlow backend.\n",
      "C:\\Users\\skymont\\Anaconda3\\lib\\site-packages\\gensim\\utils.py:1209: UserWarning: detected Windows; aliasing chunkize to chunkize_serial\n",
      "  warnings.warn(\"detected Windows; aliasing chunkize to chunkize_serial\")\n"
     ]
    }
   ],
   "source": [
    "import keras\n",
    "import csv\n",
    "import scipy\n",
    "import numpy as np\n",
    "import nltk #from nltk.tokenize import punkt #.tokenize.moses import MosesTokenizer\n",
    "from gensim.models import KeyedVectors\n",
    "from itertools import islice\n",
    "import pickle\n",
    "import pandas as pd\n",
    "import re\n",
    "from nltk.corpus import stopwords\n",
    "import json\n",
    "import pickle\n",
    "from cyordereddict import OrderedDict\n",
    "from joblib import Parallel, delayed\n",
    "pattern = re.compile(r'[^\\s\\w_]+')\n",
    "\n",
    "DATASET_FILE_PATH = \"./DataSet/yelp.csv/yelp.csv\"\n",
    "WORD2VEC_FILE_PATH = \"./DataSet/FBword2vec/wiki.en.vec\"\n",
    "TRAINING_DATA_PATH = \"./DataSet/trainingData\"\n",
    "EXTENDED_DATASET_PATH = \"./DataSet/review.json\"\n",
    "\n",
    "###File Names\n",
    "TEST_NAME = \"standard_tokenizer_No_Stopwords_noPunctuation_FB_vectors_100percentDataset\"\n",
    "\n",
    "EMBEDDED_MATRIX_NAME = TEST_NAME+'_embedded_matrix.pkl'\n",
    "TOKENIZED_SENTENCES_NAME = TEST_NAME+ \"_tokenized_sentences.pkl\"\n",
    "WORD_INDEX_NAME = TEST_NAME+ \"_word_index.pkl\"\n",
    "INDEXED_TOKENIZED_SENTENCES_NAME = TEST_NAME + \"_indexed_tokenized_sentences.pkl\"\n",
    "\n",
    "LABELS_NAME = 'labels.pkl'\n",
    "\n",
    "\n",
    "AMOUNT_OF_WORDS = 70\n",
    "FACEBOOK_EMBEDDING_SIZE = 300"
   ]
  },
  {
   "cell_type": "code",
   "execution_count": 2,
   "metadata": {},
   "outputs": [],
   "source": [
    "word_index = pickle.load(open(WORD_INDEX_NAME,'rb'))"
   ]
  },
  {
   "cell_type": "code",
   "execution_count": 3,
   "metadata": {},
   "outputs": [
    {
     "name": "stdout",
     "output_type": "stream",
     "text": [
      "embedded matrix loaded\n"
     ]
    }
   ],
   "source": [
    "embedded_matrix =  np.load(EMBEDDED_MATRIX_NAME+'.npy')\n",
    "print('embedded matrix loaded')"
   ]
  },
  {
   "cell_type": "code",
   "execution_count": 4,
   "metadata": {},
   "outputs": [],
   "source": [
    "indexed_tokenized_sentences = pickle.load(open(INDEXED_TOKENIZED_SENTENCES_NAME,'rb'))"
   ]
  },
  {
   "cell_type": "code",
   "execution_count": 5,
   "metadata": {},
   "outputs": [],
   "source": [
    "def reshapeSentences(indexed_tokenized_sentences,sentence_length):\n",
    "    for i in range(len(indexed_tokenized_sentences)):\n",
    "        padding = sentence_length - len(indexed_tokenized_sentences[i])\n",
    "        indexed_tokenized_sentences[i] = indexed_tokenized_sentences[i][:sentence_length] + [-1]*padding\n",
    "    return indexed_tokenized_sentences"
   ]
  },
  {
   "cell_type": "code",
   "execution_count": 6,
   "metadata": {},
   "outputs": [],
   "source": [
    "### BUILDING MODEL"
   ]
  },
  {
   "cell_type": "code",
   "execution_count": 7,
   "metadata": {},
   "outputs": [],
   "source": [
    "reshaped_Sentences = reshapeSentences(indexed_tokenized_sentences, AMOUNT_OF_WORDS)"
   ]
  },
  {
   "cell_type": "code",
   "execution_count": 8,
   "metadata": {},
   "outputs": [],
   "source": [
    "labels = pd.read_pickle(LABELS_NAME)"
   ]
  },
  {
   "cell_type": "code",
   "execution_count": 9,
   "metadata": {},
   "outputs": [
    {
     "data": {
      "text/html": [
       "<div>\n",
       "<style scoped>\n",
       "    .dataframe tbody tr th:only-of-type {\n",
       "        vertical-align: middle;\n",
       "    }\n",
       "\n",
       "    .dataframe tbody tr th {\n",
       "        vertical-align: top;\n",
       "    }\n",
       "\n",
       "    .dataframe thead th {\n",
       "        text-align: right;\n",
       "    }\n",
       "</style>\n",
       "<table border=\"1\" class=\"dataframe\">\n",
       "  <thead>\n",
       "    <tr style=\"text-align: right;\">\n",
       "      <th></th>\n",
       "      <th>stars</th>\n",
       "    </tr>\n",
       "  </thead>\n",
       "  <tbody>\n",
       "    <tr>\n",
       "      <th>0</th>\n",
       "      <td>5</td>\n",
       "    </tr>\n",
       "    <tr>\n",
       "      <th>1</th>\n",
       "      <td>5</td>\n",
       "    </tr>\n",
       "    <tr>\n",
       "      <th>2</th>\n",
       "      <td>5</td>\n",
       "    </tr>\n",
       "    <tr>\n",
       "      <th>3</th>\n",
       "      <td>5</td>\n",
       "    </tr>\n",
       "    <tr>\n",
       "      <th>4</th>\n",
       "      <td>4</td>\n",
       "    </tr>\n",
       "  </tbody>\n",
       "</table>\n",
       "</div>"
      ],
      "text/plain": [
       "   stars\n",
       "0      5\n",
       "1      5\n",
       "2      5\n",
       "3      5\n",
       "4      4"
      ]
     },
     "execution_count": 9,
     "metadata": {},
     "output_type": "execute_result"
    }
   ],
   "source": [
    "labels.head()\n",
    "labels.pop('cool')\n",
    "labels.pop('funny')\n",
    "labels.pop('useful')\n",
    "labels.head()"
   ]
  },
  {
   "cell_type": "code",
   "execution_count": 10,
   "metadata": {},
   "outputs": [],
   "source": [
    "from keras.layers import Embedding\n",
    "from keras.models import Sequential\n",
    "from keras.layers import Dense\n",
    "from keras.layers import Flatten\n",
    "from keras.layers.convolutional import Conv1D\n",
    "from keras.layers.convolutional import MaxPooling1D\n",
    "from keras.layers.embeddings import Embedding\n",
    "from keras.preprocessing import sequence\n",
    "from keras.layers import LSTM\n",
    "from keras.layers import SpatialDropout1D\n",
    "from keras.layers import Dropout\n",
    "from sklearn.model_selection import train_test_split\n",
    "import numpy as np\n",
    "from keras import backend\n",
    "# fix random seed for reproducibility\n",
    "seed = 42\n",
    "np.random.seed(seed)"
   ]
  },
  {
   "cell_type": "code",
   "execution_count": 11,
   "metadata": {},
   "outputs": [],
   "source": [
    "embedding_layer = Embedding(\n",
    "    len(word_index),\n",
    "    FACEBOOK_EMBEDDING_SIZE,\n",
    "    weights=[embedded_matrix],\n",
    "    input_length=AMOUNT_OF_WORDS,\n",
    "    trainable=True\n",
    ")"
   ]
  },
  {
   "cell_type": "code",
   "execution_count": 12,
   "metadata": {},
   "outputs": [],
   "source": [
    "reshaped_Sentences = np.stack(reshaped_Sentences,axis=0)"
   ]
  },
  {
   "cell_type": "code",
   "execution_count": 13,
   "metadata": {},
   "outputs": [],
   "source": [
    "\n",
    "X_train, X_test, y_train, y_test = train_test_split(reshaped_Sentences, labels.values, test_size=0.2, random_state=42)"
   ]
  },
  {
   "cell_type": "code",
   "execution_count": 14,
   "metadata": {},
   "outputs": [],
   "source": [
    "def generator(features, labels, batch_size, replace=True):\n",
    "    \n",
    "    batch_features = np.zeros((batch_size,AMOUNT_OF_WORDS))\n",
    "    batch_labels = np.zeros((batch_size,1))\n",
    "    while True:\n",
    "        index = np.random.choice(features.shape[0], batch_size, replace=replace)\n",
    "        batch_features[:] = features[index]\n",
    "        batch_labels[:] = labels[index]\n",
    "        yield batch_features, batch_labels\n",
    "        "
   ]
  },
  {
   "cell_type": "code",
   "execution_count": 15,
   "metadata": {},
   "outputs": [],
   "source": [
    "def precisionMetric(y_true,y_pred):\n",
    "    #return tf.metrics.mean(y_true - tf.round(y_pred))[0]\n",
    "    return backend.mean(y_true - backend.round(y_pred))"
   ]
  },
  {
   "cell_type": "code",
   "execution_count": 16,
   "metadata": {},
   "outputs": [],
   "source": [
    "def percentageCorrect(y_true, y_pred):\n",
    "    return backend.mean(backend.equal(y_true, backend.round(y_pred)))*100"
   ]
  },
  {
   "cell_type": "code",
   "execution_count": 17,
   "metadata": {},
   "outputs": [
    {
     "name": "stdout",
     "output_type": "stream",
     "text": [
      "_________________________________________________________________\n",
      "Layer (type)                 Output Shape              Param #   \n",
      "=================================================================\n",
      "embedding_1 (Embedding)      (None, 70, 300)           57183900  \n",
      "_________________________________________________________________\n",
      "dropout_1 (Dropout)          (None, 70, 300)           0         \n",
      "_________________________________________________________________\n",
      "conv1d_1 (Conv1D)            (None, 66, 32)            48032     \n",
      "_________________________________________________________________\n",
      "max_pooling1d_1 (MaxPooling1 (None, 13, 32)            0         \n",
      "_________________________________________________________________\n",
      "lstm_1 (LSTM)                (None, 70)                28840     \n",
      "_________________________________________________________________\n",
      "dense_1 (Dense)              (None, 200)               14200     \n",
      "_________________________________________________________________\n",
      "dropout_2 (Dropout)          (None, 200)               0         \n",
      "_________________________________________________________________\n",
      "dense_2 (Dense)              (None, 200)               40200     \n",
      "_________________________________________________________________\n",
      "dense_3 (Dense)              (None, 1)                 201       \n",
      "=================================================================\n",
      "Total params: 57,315,373\n",
      "Trainable params: 57,315,373\n",
      "Non-trainable params: 0\n",
      "_________________________________________________________________\n"
     ]
    }
   ],
   "source": [
    "model = Sequential()\n",
    "model.add(embedding_layer)\n",
    "model.add(Dropout(0.25))\n",
    "model.add(Conv1D(32, 5, padding='valid', activation='relu', strides=1))\n",
    "model.add(MaxPooling1D(pool_size=5))\n",
    "model.add(LSTM(70))\n",
    "model.add(Dense(200))\n",
    "model.add(Dropout(0.8))\n",
    "model.add(Dense(200))\n",
    "model.add(Dense(1))\n",
    "model.compile(loss='mean_absolute_error', optimizer='adam', metrics=[percentageCorrect])\n",
    "model.summary()"
   ]
  },
  {
   "cell_type": "code",
   "execution_count": null,
   "metadata": {},
   "outputs": [
    {
     "name": "stdout",
     "output_type": "stream",
     "text": [
      "Epoch 1/200\n",
      " - 28s - loss: 0.4645 - percentageCorrect: 63.5120 - val_loss: 0.4437 - val_percentageCorrect: 65.2880\n",
      "Epoch 2/200\n",
      " - 27s - loss: 0.4629 - percentageCorrect: 63.6836 - val_loss: 0.4526 - val_percentageCorrect: 64.5267\n",
      "Epoch 3/200\n",
      " - 27s - loss: 0.4608 - percentageCorrect: 63.7484 - val_loss: 0.5056 - val_percentageCorrect: 62.8240\n",
      "Epoch 4/200\n",
      " - 27s - loss: 0.4615 - percentageCorrect: 63.7826 - val_loss: 0.4387 - val_percentageCorrect: 65.2733\n",
      "Epoch 5/200\n",
      " - 27s - loss: 0.4608 - percentageCorrect: 63.8716 - val_loss: 0.4460 - val_percentageCorrect: 65.2747\n",
      "Epoch 6/200\n",
      " - 27s - loss: 0.4594 - percentageCorrect: 63.9475 - val_loss: 0.6342 - val_percentageCorrect: 58.6587\n",
      "Epoch 7/200\n",
      " - 27s - loss: 0.4591 - percentageCorrect: 63.8929 - val_loss: 0.4530 - val_percentageCorrect: 64.9173\n",
      "Epoch 8/200\n",
      " - 27s - loss: 0.4578 - percentageCorrect: 64.0572 - val_loss: 0.4442 - val_percentageCorrect: 64.9253\n",
      "Epoch 9/200\n",
      " - 27s - loss: 0.4574 - percentageCorrect: 63.9818 - val_loss: 0.4431 - val_percentageCorrect: 65.1800\n",
      "Epoch 10/200\n",
      " - 27s - loss: 0.4554 - percentageCorrect: 64.2350 - val_loss: 0.6369 - val_percentageCorrect: 58.7893\n",
      "Epoch 11/200\n",
      " - 27s - loss: 0.4562 - percentageCorrect: 64.0965 - val_loss: 0.4840 - val_percentageCorrect: 63.6213\n",
      "Epoch 12/200\n",
      " - 27s - loss: 0.4547 - percentageCorrect: 64.1891 - val_loss: 0.4575 - val_percentageCorrect: 64.6307\n",
      "Epoch 13/200\n",
      " - 27s - loss: 0.4543 - percentageCorrect: 64.3204 - val_loss: 0.4533 - val_percentageCorrect: 64.6400\n",
      "Epoch 14/200\n",
      " - 27s - loss: 0.4522 - percentageCorrect: 64.4320 - val_loss: 0.4383 - val_percentageCorrect: 65.3080\n",
      "Epoch 15/200\n",
      " - 27s - loss: 0.4523 - percentageCorrect: 64.4668 - val_loss: 0.4407 - val_percentageCorrect: 65.6053\n",
      "Epoch 16/200\n",
      " - 27s - loss: 0.4511 - percentageCorrect: 64.4318 - val_loss: 0.4486 - val_percentageCorrect: 65.2680\n",
      "Epoch 17/200\n",
      " - 27s - loss: 0.4510 - percentageCorrect: 64.5526 - val_loss: 0.5354 - val_percentageCorrect: 61.8240\n",
      "Epoch 18/200\n",
      " - 27s - loss: 0.4488 - percentageCorrect: 64.6354 - val_loss: 0.5049 - val_percentageCorrect: 62.9147\n",
      "Epoch 19/200\n",
      " - 27s - loss: 0.4497 - percentageCorrect: 64.5815 - val_loss: 0.4510 - val_percentageCorrect: 65.1347\n",
      "Epoch 20/200\n",
      " - 27s - loss: 0.4494 - percentageCorrect: 64.6867 - val_loss: 0.4460 - val_percentageCorrect: 64.7573\n",
      "Epoch 21/200\n",
      " - 27s - loss: 0.4487 - percentageCorrect: 64.6360 - val_loss: 0.4573 - val_percentageCorrect: 64.5147\n",
      "Epoch 22/200\n",
      " - 27s - loss: 0.4459 - percentageCorrect: 64.8860 - val_loss: 0.4364 - val_percentageCorrect: 65.5440\n",
      "Epoch 23/200\n",
      " - 27s - loss: 0.4458 - percentageCorrect: 64.8810 - val_loss: 0.4499 - val_percentageCorrect: 64.7520\n",
      "Epoch 24/200\n",
      " - 27s - loss: 0.4441 - percentageCorrect: 65.0527 - val_loss: 0.5277 - val_percentageCorrect: 61.8520\n",
      "Epoch 25/200\n",
      " - 27s - loss: 0.4468 - percentageCorrect: 64.7860 - val_loss: 0.4430 - val_percentageCorrect: 65.1920\n",
      "Epoch 26/200\n",
      " - 27s - loss: 0.4430 - percentageCorrect: 65.0930 - val_loss: 0.4540 - val_percentageCorrect: 64.7453\n",
      "Epoch 27/200\n",
      " - 27s - loss: 0.4446 - percentageCorrect: 64.9897 - val_loss: 0.4534 - val_percentageCorrect: 64.7720\n",
      "Epoch 28/200\n",
      " - 27s - loss: 0.4438 - percentageCorrect: 65.0719 - val_loss: 0.4464 - val_percentageCorrect: 65.1720\n",
      "Epoch 29/200\n",
      " - 27s - loss: 0.4418 - percentageCorrect: 65.1601 - val_loss: 0.4473 - val_percentageCorrect: 64.8213\n",
      "Epoch 30/200\n",
      " - 27s - loss: 0.4423 - percentageCorrect: 65.0545 - val_loss: 0.5336 - val_percentageCorrect: 62.3027\n",
      "Epoch 31/200\n",
      " - 27s - loss: 0.4400 - percentageCorrect: 65.2485 - val_loss: 0.4560 - val_percentageCorrect: 64.6600\n",
      "Epoch 32/200\n",
      " - 27s - loss: 0.4380 - percentageCorrect: 65.4465 - val_loss: 0.5348 - val_percentageCorrect: 61.9547\n",
      "Epoch 33/200\n",
      " - 27s - loss: 0.4392 - percentageCorrect: 65.3394 - val_loss: 0.4652 - val_percentageCorrect: 64.7093\n",
      "Epoch 34/200\n",
      " - 27s - loss: 0.4377 - percentageCorrect: 65.4456 - val_loss: 0.4453 - val_percentageCorrect: 65.1667\n",
      "Epoch 35/200\n",
      " - 27s - loss: 0.4382 - percentageCorrect: 65.3810 - val_loss: 0.4407 - val_percentageCorrect: 65.2147\n",
      "Epoch 36/200\n",
      " - 27s - loss: 0.4391 - percentageCorrect: 65.3172 - val_loss: 0.4378 - val_percentageCorrect: 65.3800\n",
      "Epoch 37/200\n",
      " - 27s - loss: 0.4362 - percentageCorrect: 65.5521 - val_loss: 0.4453 - val_percentageCorrect: 65.3040\n",
      "Epoch 38/200\n",
      " - 27s - loss: 0.4380 - percentageCorrect: 65.5038 - val_loss: 0.4422 - val_percentageCorrect: 65.2573\n",
      "Epoch 39/200\n",
      " - 27s - loss: 0.4363 - percentageCorrect: 65.5806 - val_loss: 0.4461 - val_percentageCorrect: 65.2080\n",
      "Epoch 40/200\n",
      " - 27s - loss: 0.4358 - percentageCorrect: 65.5913 - val_loss: 0.4469 - val_percentageCorrect: 65.1147\n",
      "Epoch 41/200\n",
      " - 27s - loss: 0.4349 - percentageCorrect: 65.6434 - val_loss: 0.4407 - val_percentageCorrect: 65.4893\n",
      "Epoch 42/200\n",
      " - 25s - loss: 0.4342 - percentageCorrect: 65.7931 - val_loss: 0.4360 - val_percentageCorrect: 65.2800\n",
      "Epoch 43/200\n",
      " - 27s - loss: 0.4340 - percentageCorrect: 65.8446 - val_loss: 0.4448 - val_percentageCorrect: 65.4613\n",
      "Epoch 44/200\n",
      " - 27s - loss: 0.4330 - percentageCorrect: 65.7979 - val_loss: 0.4422 - val_percentageCorrect: 65.3467\n",
      "Epoch 45/200\n",
      " - 27s - loss: 0.4340 - percentageCorrect: 65.8088 - val_loss: 0.4528 - val_percentageCorrect: 64.9867\n",
      "Epoch 46/200\n",
      " - 27s - loss: 0.4335 - percentageCorrect: 65.7875 - val_loss: 0.4421 - val_percentageCorrect: 65.4907\n",
      "Epoch 47/200\n",
      " - 27s - loss: 0.4331 - percentageCorrect: 65.8179 - val_loss: 0.4435 - val_percentageCorrect: 65.0000\n",
      "Epoch 48/200\n",
      " - 27s - loss: 0.4310 - percentageCorrect: 65.9728 - val_loss: 0.4347 - val_percentageCorrect: 65.7453\n",
      "Epoch 49/200\n",
      " - 27s - loss: 0.4330 - percentageCorrect: 65.7542 - val_loss: 0.4565 - val_percentageCorrect: 65.0733\n",
      "Epoch 50/200\n",
      " - 27s - loss: 0.4294 - percentageCorrect: 66.1201 - val_loss: 0.5076 - val_percentageCorrect: 63.0227\n",
      "Epoch 51/200\n",
      " - 27s - loss: 0.4303 - percentageCorrect: 66.0263 - val_loss: 0.4418 - val_percentageCorrect: 65.4613\n",
      "Epoch 52/200\n",
      " - 27s - loss: 0.4290 - percentageCorrect: 66.0926 - val_loss: 0.4406 - val_percentageCorrect: 65.4027\n",
      "Epoch 53/200\n",
      " - 27s - loss: 0.4284 - percentageCorrect: 66.1759 - val_loss: 0.4877 - val_percentageCorrect: 63.7773\n",
      "Epoch 54/200\n",
      " - 27s - loss: 0.4277 - percentageCorrect: 66.1984 - val_loss: 0.4447 - val_percentageCorrect: 65.4933\n",
      "Epoch 55/200\n",
      " - 27s - loss: 0.4272 - percentageCorrect: 66.2046 - val_loss: 0.4728 - val_percentageCorrect: 64.2573\n",
      "Epoch 56/200\n",
      " - 27s - loss: 0.4261 - percentageCorrect: 66.3310 - val_loss: 0.4616 - val_percentageCorrect: 64.9000\n",
      "Epoch 57/200\n",
      " - 27s - loss: 0.4261 - percentageCorrect: 66.3173 - val_loss: 0.4396 - val_percentageCorrect: 65.7933\n",
      "Epoch 58/200\n",
      " - 27s - loss: 0.4261 - percentageCorrect: 66.2959 - val_loss: 0.5323 - val_percentageCorrect: 62.3360\n",
      "Epoch 59/200\n",
      " - 27s - loss: 0.4259 - percentageCorrect: 66.3224 - val_loss: 0.4356 - val_percentageCorrect: 65.5280\n",
      "Epoch 60/200\n",
      " - 27s - loss: 0.4251 - percentageCorrect: 66.3611 - val_loss: 0.4779 - val_percentageCorrect: 63.5973\n",
      "Epoch 61/200\n",
      " - 27s - loss: 0.4255 - percentageCorrect: 66.4326 - val_loss: 0.4350 - val_percentageCorrect: 65.5413\n",
      "Epoch 62/200\n"
     ]
    }
   ],
   "source": [
    "#model.fit(X_train,y_train,validation_data=(X_test, y_test), epochs=40, batch_size=10, verbose=2)\n",
    "model.fit_generator(generator(X_train,y_train,8000,False),steps_per_epoch=100, epochs=200, verbose=2, validation_data=generator(X_test, y_test, 15000, False), validation_steps=5)"
   ]
  },
  {
   "cell_type": "code",
   "execution_count": null,
   "metadata": {},
   "outputs": [],
   "source": []
  }
 ],
 "metadata": {
  "kernelspec": {
   "display_name": "Python 3",
   "language": "python",
   "name": "python3"
  },
  "language_info": {
   "codemirror_mode": {
    "name": "ipython",
    "version": 3
   },
   "file_extension": ".py",
   "mimetype": "text/x-python",
   "name": "python",
   "nbconvert_exporter": "python",
   "pygments_lexer": "ipython3",
   "version": "3.6.5"
  }
 },
 "nbformat": 4,
 "nbformat_minor": 2
}
